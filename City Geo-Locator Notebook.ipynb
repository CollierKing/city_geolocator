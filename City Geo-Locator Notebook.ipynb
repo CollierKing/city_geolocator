{
 "cells": [
  {
   "cell_type": "markdown",
   "metadata": {},
   "source": [
    "# City Geo-Locator Notebook"
   ]
  },
  {
   "cell_type": "markdown",
   "metadata": {},
   "source": [
    "## Get List of Cities"
   ]
  },
  {
   "cell_type": "code",
   "execution_count": 18,
   "metadata": {},
   "outputs": [],
   "source": [
    "import pandas as pd\n",
    "df_mba = pd.read_csv(\"https://raw.githubusercontent.com/CollierKing/Classify_Jobs_Indeed/master/indeed_mba_jobs.csv\",encoding = \"ISO-8859-1\")\n",
    "df_mba['category'] = \"mba\"\n",
    "df_data_sci = pd.read_csv(\"https://raw.githubusercontent.com/CollierKing/Classify_Jobs_Indeed/master/indeed_datasci_jobs.csv\",encoding = \"ISO-8859-1\")\n",
    "df_data_sci['category'] = \"data_science\""
   ]
  },
  {
   "cell_type": "code",
   "execution_count": 19,
   "metadata": {},
   "outputs": [],
   "source": [
    "df_combined = pd.concat([df_mba,df_data_sci])"
   ]
  },
  {
   "cell_type": "code",
   "execution_count": 26,
   "metadata": {},
   "outputs": [
    {
     "name": "stdout",
     "output_type": "stream",
     "text": [
      "0.0\n",
      "0.05482456140350877\n",
      "0.10964912280701754\n",
      "0.16447368421052633\n",
      "0.21929824561403508\n",
      "0.2741228070175439\n",
      "0.32894736842105265\n",
      "0.38377192982456143\n",
      "0.43859649122807015\n",
      "0.4934210526315789\n",
      "0.5482456140350878\n",
      "0.6030701754385965\n",
      "0.6578947368421053\n",
      "0.7127192982456141\n",
      "0.7675438596491229\n",
      "0.8223684210526315\n",
      "0.8771929824561403\n",
      "0.9320175438596491\n",
      "0.9868421052631579\n"
     ]
    }
   ],
   "source": [
    "import matplotlib.pyplot as plt\n",
    "from geopy.geocoders import Nominatim\n",
    "import math\n",
    "import time\n",
    "import numpy as np\n",
    "\n",
    "geolocator = Nominatim()\n",
    "\n",
    "city_list = pd.DataFrame(df_combined['Location'].unique())\n",
    "city_list[\"Location\"] = \"\"\n",
    "city_list.columns = ['City','Location']\n",
    "# loop through city list and find lat/lon coordinates\n",
    "for idx, city in city_list.iterrows():\n",
    "    time.sleep(1)\n",
    "    try:\n",
    "        loc = geolocator.geocode(city['City'])\n",
    "        loc_ = loc[1]\n",
    "        city['Location'] = loc_\n",
    "    except:\n",
    "        city['Location'] = np.nan\n",
    "    if idx % 100 == 0:\n",
    "        print(float(idx/len(city_list)))\n",
    "            \n"
   ]
  },
  {
   "cell_type": "code",
   "execution_count": null,
   "metadata": {
    "collapsed": true
   },
   "outputs": [],
   "source": [
    "city_list['Location'] = city_list['Location'].astype(str)\n",
    "city_list['lon'], city_list['lat'] = city_list['Location'].str.split(' ', 1).str\n",
    "city_list['lat'] = city_list['lat'].str.replace('(', '')\n",
    "city_list['lat'] = city_list['lat'].str.replace(')', '')\n",
    "city_list['lat'] = city_list['lat'].str.replace('\\)', '')\n",
    "city_list['lon'] = city_list['lon'].str.replace(')', '')\n",
    "city_list['lon'] = city_list['lon'].str.replace('(', '')\n",
    "city_list['lat'] = city_list['lat'].str.replace(',', '')\n",
    "city_list['lon'] = city_list['lon'].str.replace(',', '')\n",
    "city_list = city_list[city_list['Location']!='nan']"
   ]
  },
  {
   "cell_type": "code",
   "execution_count": 28,
   "metadata": {
    "collapsed": true
   },
   "outputs": [],
   "source": [
    "dir = \"/Users/Collier/Dropbox/Skills/Python/Projects/Misc/\"\n",
    "city_list.to_csv(dir+\"city_list.csv\")"
   ]
  },
  {
   "cell_type": "code",
   "execution_count": null,
   "metadata": {
    "collapsed": true
   },
   "outputs": [],
   "source": []
  }
 ],
 "metadata": {
  "kernelspec": {
   "display_name": "Python [conda env:env1]",
   "language": "python",
   "name": "conda-env-env1-py"
  },
  "language_info": {
   "codemirror_mode": {
    "name": "ipython",
    "version": 3
   },
   "file_extension": ".py",
   "mimetype": "text/x-python",
   "name": "python",
   "nbconvert_exporter": "python",
   "pygments_lexer": "ipython3",
   "version": "3.5.2"
  },
  "toc": {
   "colors": {
    "hover_highlight": "#DAA520",
    "navigate_num": "#000000",
    "navigate_text": "#333333",
    "running_highlight": "#FF0000",
    "selected_highlight": "#FFD700",
    "sidebar_border": "#EEEEEE",
    "wrapper_background": "#FFFFFF"
   },
   "moveMenuLeft": true,
   "nav_menu": {
    "height": "48px",
    "width": "252px"
   },
   "navigate_menu": true,
   "number_sections": true,
   "sideBar": true,
   "threshold": 4,
   "toc_cell": false,
   "toc_section_display": "block",
   "toc_window_display": false,
   "widenNotebook": false
  }
 },
 "nbformat": 4,
 "nbformat_minor": 2
}
